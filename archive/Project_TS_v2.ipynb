{
 "cells": [
  {
   "cell_type": "code",
   "execution_count": 1,
   "metadata": {
    "colab": {
     "base_uri": "https://localhost:8080/",
     "height": 446
    },
    "colab_type": "code",
    "id": "KcveZNQvmQ_S",
    "outputId": "ddb64ccc-97f1-43f6-eae5-cd3ab7b0f609"
   },
   "outputs": [],
   "source": [
    "#!pip install yahoo_finance_api2"
   ]
  },
  {
   "cell_type": "code",
   "execution_count": 2,
   "metadata": {
    "colab": {
     "base_uri": "https://localhost:8080/",
     "height": 272
    },
    "colab_type": "code",
    "id": "Wqqvcukama8d",
    "outputId": "169d04d6-a572-481a-e3e4-d8eb4387524e"
   },
   "outputs": [
    {
     "name": "stdout",
     "output_type": "stream",
     "text": [
      "AAPL has been downloaded\n",
      "               timestamp        open        high         low       close  \\\n",
      "1280 1995-01-03 09:30:00    1.388393    1.388393    1.352679    1.370536   \n",
      "1281 1995-01-04 09:30:00    1.379464    1.415179    1.379464    1.406250   \n",
      "1282 1995-01-05 09:30:00    1.401786    1.406250    1.383929    1.388393   \n",
      "1283 1995-01-06 09:30:00    1.486607    1.540179    1.468750    1.500000   \n",
      "1284 1995-01-09 09:30:00    1.486607    1.495536    1.464286    1.471540   \n",
      "...                  ...         ...         ...         ...         ...   \n",
      "7316 2018-12-21 09:30:00  156.860001  158.160004  149.630005  150.729996   \n",
      "7317 2018-12-24 09:30:00  148.149994  151.550003  146.589996  146.830002   \n",
      "7318 2018-12-26 09:30:00  148.300003  157.229996  146.720001  157.169998   \n",
      "7319 2018-12-27 09:30:00  155.839996  156.770004  150.070007  156.149994   \n",
      "7320 2018-12-28 09:30:00  157.500000  158.520004  154.550003  156.229996   \n",
      "\n",
      "         volume  \n",
      "1280   25967200  \n",
      "1281   39670400  \n",
      "1282   18410000  \n",
      "1283  269155600  \n",
      "1284   68521600  \n",
      "...         ...  \n",
      "7316   95744600  \n",
      "7317   37169200  \n",
      "7318   58582500  \n",
      "7319   53117100  \n",
      "7320   42291400  \n",
      "\n",
      "[6041 rows x 6 columns]\n"
     ]
    }
   ],
   "source": [
    "import pandas as pd\n",
    "import sys\n",
    "from yahoo_finance_api2 import share\n",
    "from yahoo_finance_api2.exceptions import YahooFinanceError\n",
    "from datetime import datetime\n",
    "\n",
    "def dataloader(stock_name):\n",
    "    my_share = share.Share(stock_name)\n",
    "    symbol_data = None\n",
    "\n",
    "    try:\n",
    "        symbol_data = my_share.get_historical(share.PERIOD_TYPE_YEAR,30,\n",
    "                                            share.FREQUENCY_TYPE_DAY,1)\n",
    "        print(stock_name+\" has been downloaded\")\n",
    "\n",
    "    except YahooFinanceError as e:\n",
    "        print(e.message)\n",
    "        sys.exit(1)\n",
    "        \n",
    "    df = pd.DataFrame(symbol_data)\n",
    "\n",
    "    df['timestamp'] = [datetime.fromtimestamp(t/1000) for t in df['timestamp']]\n",
    "\n",
    "    # test = df[(df['timestamp'] >= '2016-1-1 01:00:00') & (df['timestamp'] <= '2018-12-31 04:00:00')]\n",
    "    return df[(df['timestamp'] >= '1995-01-01 01:00:00') & (df['timestamp'] <= '2018-12-31 04:00:00')]\n",
    "\n",
    "print(dataloader(\"AAPL\"))"
   ]
  },
  {
   "cell_type": "code",
   "execution_count": 23,
   "metadata": {
    "colab": {},
    "colab_type": "code",
    "id": "oPesud5rmgcM"
   },
   "outputs": [],
   "source": [
    "import numpy as np\n",
    "import math\n",
    "\n",
    "def get_data(stock_name):\n",
    "    train = []\n",
    "    test = []\n",
    "    \n",
    "    for name in stock_name:\n",
    "        df = dataloader(name)\n",
    "        train.append( list(df[(df['timestamp'] >= '1995-01-01 01:00:00') & (df['timestamp'] <= '2015-12-31 04:00:00')]['close']) )\n",
    "        test.append( list(df[(df['timestamp'] >= '2016-01-01 01:00:00') & (df['timestamp'] <= '2017-12-31 12:00:00')]['close']) )\n",
    "\n",
    "    return train, test"
   ]
  },
  {
   "cell_type": "code",
   "execution_count": 7,
   "metadata": {
    "colab": {
     "base_uri": "https://localhost:8080/",
     "height": 299
    },
    "colab_type": "code",
    "id": "ig9G3fxCmnxS",
    "outputId": "240defb0-9a9b-44e4-aa58-60ca522b5b2e"
   },
   "outputs": [
    {
     "name": "stdout",
     "output_type": "stream",
     "text": [
      "AAPL has been downloaded\n"
     ]
    },
    {
     "data": {
      "image/png": "[encoded data removed]",
      "text/plain": [
       "<Figure size 432x288 with 1 Axes>"
      ]
     },
     "metadata": {
      "needs_background": "light"
     },
     "output_type": "display_data"
    }
   ],
   "source": [
    "import matplotlib.pyplot as plt\n",
    "\n",
    "train_data,_ = get_data([\"AAPL\"])\n",
    "\n",
    "plt.plot([i for i in range(len(train_data))], train_data)\n",
    "plt.show()"
   ]
  },
  {
   "cell_type": "code",
   "execution_count": 62,
   "metadata": {
    "colab": {},
    "colab_type": "code",
    "id": "uK1qgsH1zwS3"
   },
   "outputs": [],
   "source": [
    "import keras\n",
    "from keras.layers.convolutional import Conv1D\n",
    "from keras.layers.convolutional import MaxPooling1D\n",
    "from keras.layers.convolutional import AveragePooling1D\n",
    "\n",
    "from keras.layers.core import Dense\n",
    "from keras.layers.core import Dropout\n",
    "from keras.layers import Input\n",
    "from keras.layers import Flatten\n",
    "from keras.layers import Add\n",
    "from keras.layers import Concatenate\n",
    "from keras.layers import GaussianNoise\n",
    "from keras.layers import LSTM\n",
    "\n",
    "from keras.models import Model\n",
    "from keras.optimizers import Adam\n",
    "from keras.optimizers import SGD\n",
    "import keras.backend as K\n",
    "from keras.utils.vis_utils import plot_model\n",
    "\n",
    "def Res_model():\n",
    "  \n",
    "    x_input = Input(shape=(20,1,))\n",
    "\n",
    "    x = GaussianNoise(stddev=10)(x_input)\n",
    "    y = Conv1D(filters=20, kernel_size=3, activation='tanh')(x)\n",
    "    y = Conv1D(filters=20, kernel_size=3, activation='relu')(y)\n",
    "    y = MaxPooling1D(pool_size=2)(y)\n",
    "    y = Dropout(0.2)(y)\n",
    "\n",
    "    x = Conv1D(filters=20, kernel_size=3, activation=None)(x)\n",
    "    x = Conv1D(filters=20, kernel_size=3, activation=None)(x)\n",
    "    x = AveragePooling1D(pool_size=2)(x)\n",
    "    x = Add()([x,y])\n",
    "\n",
    "    y = Conv1D(filters=20, kernel_size=3, activation='tanh')(x)\n",
    "    y = Conv1D(filters=20, kernel_size=3, activation='relu')(y)\n",
    "    y = Conv1D(filters=20, kernel_size=3, activation='relu')(y)\n",
    "    y = MaxPooling1D(pool_size=2)(y)\n",
    "    y = Dropout(0.2)(y)\n",
    "\n",
    "    x = Conv1D(filters=20, kernel_size=3, activation=None)(x)\n",
    "    x = Conv1D(filters=20, kernel_size=3, activation=None)(x)\n",
    "    x = Conv1D(filters=20, kernel_size=3, activation=None)(x)\n",
    "    x = AveragePooling1D(pool_size=2)(x)\n",
    "    x = Add()([x,y])\n",
    "\n",
    "    x = Flatten()(x)\n",
    "    x = Dense(units=1)(x)\n",
    "\n",
    "\n",
    "    Res1D = Model(input=x_input, output=x)\n",
    "    Res1D.compile(loss= 'logcosh', optimizer=Adam(), metrics=['MSE'])\n",
    "\n",
    "    return(Res1D)"
   ]
  },
  {
   "cell_type": "code",
   "execution_count": 59,
   "metadata": {
    "colab": {
     "base_uri": "https://localhost:8080/",
     "height": 34
    },
    "colab_type": "code",
    "id": "hWujtHeFpIwn",
    "outputId": "4a5bdf75-8f29-4ea0-bd35-0467e9b45f70"
   },
   "outputs": [
    {
     "name": "stdout",
     "output_type": "stream",
     "text": [
      "A  has been downloaded\n",
      "AAL  has been downloaded\n",
      "AAP  has been downloaded\n",
      "AAPL  has been downloaded\n",
      "ABBV  has been downloaded\n",
      "ABC  has been downloaded\n",
      "ABMD  has been downloaded\n",
      "ABT  has been downloaded\n",
      "ACN  has been downloaded\n",
      "ADBE  has been downloaded\n",
      "ADI  has been downloaded\n",
      "ADM  has been downloaded\n",
      "ADP  has been downloaded\n",
      "ADS  has been downloaded\n",
      "ADSK  has been downloaded\n"
     ]
    }
   ],
   "source": [
    "dat_comp_train = pd.read_csv(\"./data/train.csv\")\n",
    "stock_lst = [s.strip(\"\\n\") for s in list(dat_comp_train.keys() )]\n",
    "stock_lst.pop(0)\n",
    "stock_lst.pop()\n",
    "\n",
    "t_data, v_data = get_data(stock_lst[:15])\n",
    "\n",
    "train_data = []\n",
    "res_train = []\n",
    "valid_data = []\n",
    "res_valid = []\n",
    "\n",
    "for stock in range(len(t_data)):\n",
    "    \n",
    "    for i in range(len(t_data[stock]) - 21):\n",
    "        data = []\n",
    "        for j in range(21):\n",
    "            data.append([ t_data[stock][i+j] ])\n",
    "        train_data.append(np.array(data))\n",
    "        #res_train.append(t_data[stock][i+20])\n",
    "\n",
    "    for i in range(len(v_data[stock]) - 21):\n",
    "        data = []\n",
    "        for j in range(20):\n",
    "            data.append([ v_data[stock][i+j] ])\n",
    "        valid_data.append(np.array(data))\n",
    "        res_valid.append(v_data[stock][i+20])\n",
    "        \n",
    "train_data = np.array(train_data)\n",
    "np.random.shuffle(train_data)\n",
    "\n",
    "for i in range(len(train_data)):\n",
    "    res_train.append(train_data[i,20,0])\n",
    "    \n",
    "train_data = train_data[:,:-1,:]"
   ]
  },
  {
   "cell_type": "code",
   "execution_count": 65,
   "metadata": {
    "colab": {
     "base_uri": "https://localhost:8080/",
     "height": 1000
    },
    "colab_type": "code",
    "id": "b39We8JlqEzJ",
    "outputId": "412229b5-4ed2-4ec6-f9c3-d34173c40758"
   },
   "outputs": [
    {
     "name": "stderr",
     "output_type": "stream",
     "text": [
      "/Volumes/SSD/Apps/anaconda3/lib/python3.7/site-packages/ipykernel_launcher.py:52: UserWarning: Update your `Model` call to the Keras 2 API: `Model(inputs=Tensor(\"in..., outputs=Tensor(\"de...)`\n"
     ]
    },
    {
     "name": "stdout",
     "output_type": "stream",
     "text": [
      "Train on 65435 samples, validate on 7230 samples\n",
      "Epoch 1/10\n",
      "65435/65435 [==============================] - 16s 241us/step - loss: 2.1125 - MSE: 18.0975 - val_loss: 3.7213 - val_MSE: 34.8142\n",
      "Epoch 2/10\n",
      "65435/65435 [==============================] - 13s 196us/step - loss: 1.7786 - MSE: 10.3496 - val_loss: 2.4156 - val_MSE: 22.5965\n",
      "Epoch 3/10\n",
      "65435/65435 [==============================] - 13s 196us/step - loss: 1.7858 - MSE: 10.4292 - val_loss: 2.0866 - val_MSE: 17.8383\n",
      "Epoch 4/10\n",
      "65435/65435 [==============================] - 13s 195us/step - loss: 1.7786 - MSE: 10.3103 - val_loss: 2.2759 - val_MSE: 18.8679\n",
      "Epoch 5/10\n",
      "65435/65435 [==============================] - 13s 195us/step - loss: 1.7709 - MSE: 10.2556 - val_loss: 2.0938 - val_MSE: 18.3835\n",
      "Epoch 6/10\n",
      "65435/65435 [==============================] - 13s 198us/step - loss: 1.7700 - MSE: 10.2428 - val_loss: 3.5961 - val_MSE: 32.5115\n",
      "Epoch 7/10\n",
      "65435/65435 [==============================] - 13s 202us/step - loss: 1.7579 - MSE: 10.0762 - val_loss: 2.0942 - val_MSE: 18.5501\n",
      "Epoch 8/10\n",
      "65435/65435 [==============================] - 13s 198us/step - loss: 1.7588 - MSE: 10.1202 - val_loss: 2.5874 - val_MSE: 21.8491\n",
      "Epoch 9/10\n",
      "65435/65435 [==============================] - 13s 195us/step - loss: 1.7779 - MSE: 10.2434 - val_loss: 3.7671 - val_MSE: 39.4383\n",
      "Epoch 10/10\n",
      "65435/65435 [==============================] - 13s 195us/step - loss: 1.7553 - MSE: 10.1148 - val_loss: 2.8003 - val_MSE: 27.6288\n"
     ]
    },
    {
     "data": {
      "text/plain": [
       "<keras.callbacks.callbacks.History at 0x66888fa58>"
      ]
     },
     "execution_count": 65,
     "metadata": {},
     "output_type": "execute_result"
    }
   ],
   "source": [
    "model = Res_model()\n",
    "\n",
    "#Time to train\n",
    "model.fit(\n",
    "    x = np.array(train_data),\n",
    "    y = np.array(res_train),\n",
    "    verbose=1,\n",
    "    validation_data=(np.array(valid_data), res_valid),\n",
    "    epochs=10,\n",
    "    batch_size=120\n",
    ")"
   ]
  },
  {
   "cell_type": "code",
   "execution_count": 66,
   "metadata": {
    "colab": {
     "base_uri": "https://localhost:8080/",
     "height": 295
    },
    "colab_type": "code",
    "id": "iGYYmGC9qlFI",
    "outputId": "a537b14c-030c-4a01-fbbc-3360eb6d6d2b"
   },
   "outputs": [
    {
     "data": {
      "image/png": "[encoded data removed]",
      "text/plain": [
       "<Figure size 432x288 with 1 Axes>"
      ]
     },
     "metadata": {
      "needs_background": "light"
     },
     "output_type": "display_data"
    }
   ],
   "source": [
    "plot_data = []\n",
    "\n",
    "#hard_pred = []\n",
    "#to_pred = valid_data[0]\n",
    "\n",
    "for i in range(len(valid_data)):\n",
    "    prediction = model.predict(x = np.array([valid_data[i]]), batch_size=1)\n",
    "    plot_data.append(prediction[0])\n",
    "\n",
    "    #prediction = model.predict(x = np.array([to_pred]), batch_size=1)\n",
    "    #hard_pred.append(prediction[0])\n",
    "    #to_pred = np.roll(to_pred,-1)\n",
    "    #to_pred[19] = prediction[0]\n",
    "\n",
    "\n",
    "\n",
    "\n",
    "plt.plot([i for i in range(len(valid_data))], plot_data, label=\"prediction\")\n",
    "plt.plot([i for i in range(len(valid_data))], res_valid, label=\"real\")\n",
    "#plt.plot([i for i in range(len(valid_data))], hard_pred, label=\"hard prediction\")\n",
    "plt.legend()\n",
    "plt.title(\"Close price prediction\")\n",
    "plt.xlabel(\"Days -- starts 1st January 2016 \")\n",
    "plt.ylabel(\"Close price\")\n",
    "plt.show()"
   ]
  },
  {
   "cell_type": "code",
   "execution_count": 0,
   "metadata": {
    "colab": {},
    "colab_type": "code",
    "id": "ueFX0ImEuzbI"
   },
   "outputs": [],
   "source": []
  }
 ],
 "metadata": {
  "accelerator": "GPU",
  "colab": {
   "collapsed_sections": [],
   "name": "Project_TS.ipynb",
   "provenance": []
  },
  "kernelspec": {
   "display_name": "Python 3",
   "language": "python",
   "name": "python3"
  },
  "language_info": {
   "codemirror_mode": {
    "name": "ipython",
    "version": 3
   },
   "file_extension": ".py",
   "mimetype": "text/x-python",
   "name": "python",
   "nbconvert_exporter": "python",
   "pygments_lexer": "ipython3",
   "version": "3.7.3"
  }
 },
 "nbformat": 4,
 "nbformat_minor": 1
}

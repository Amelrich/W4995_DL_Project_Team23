{
  "nbformat": 4,
  "nbformat_minor": 0,
  "metadata": {
    "colab": {
      "name": "Project_TS.ipynb",
      "provenance": [],
      "collapsed_sections": []
    },
    "kernelspec": {
      "name": "python3",
      "display_name": "Python 3"
    },
    "accelerator": "GPU"
  },
  "cells": [
    {
      "cell_type": "code",
      "metadata": {
        "id": "KcveZNQvmQ_S",
        "colab_type": "code",
        "colab": {
          "base_uri": "https://localhost:8080/",
          "height": 446
        },
        "outputId": "636f809c-d0a2-441f-9076-04087ba747be"
      },
      "source": [
        "!pip install yahoo_finance_api2"
      ],
      "execution_count": 1,
      "outputs": [
        {
          "output_type": "stream",
          "text": [
            "Collecting yahoo_finance_api2\n",
            "  Downloading https://files.pythonhosted.org/packages/dd/fd/0d045ce09da2d40ac62c6bccf211181a00dbdb57b6147060fa107e9cd062/yahoo_finance_api2-0.0.8.tar.gz\n",
            "Collecting pprint\n",
            "  Downloading https://files.pythonhosted.org/packages/99/12/b6383259ef85c2b942ab9135f322c0dce83fdca8600d87122d2b0181451f/pprint-0.1.tar.gz\n",
            "Requirement already satisfied: pyyaml in /usr/local/lib/python3.6/dist-packages (from yahoo_finance_api2) (3.13)\n",
            "Requirement already satisfied: requests in /usr/local/lib/python3.6/dist-packages (from yahoo_finance_api2) (2.21.0)\n",
            "Requirement already satisfied: idna<2.9,>=2.5 in /usr/local/lib/python3.6/dist-packages (from requests->yahoo_finance_api2) (2.8)\n",
            "Requirement already satisfied: urllib3<1.25,>=1.21.1 in /usr/local/lib/python3.6/dist-packages (from requests->yahoo_finance_api2) (1.24.3)\n",
            "Requirement already satisfied: certifi>=2017.4.17 in /usr/local/lib/python3.6/dist-packages (from requests->yahoo_finance_api2) (2019.9.11)\n",
            "Requirement already satisfied: chardet<3.1.0,>=3.0.2 in /usr/local/lib/python3.6/dist-packages (from requests->yahoo_finance_api2) (3.0.4)\n",
            "Building wheels for collected packages: yahoo-finance-api2, pprint\n",
            "  Building wheel for yahoo-finance-api2 (setup.py) ... \u001b[?25l\u001b[?25hdone\n",
            "  Created wheel for yahoo-finance-api2: filename=yahoo_finance_api2-0.0.8-cp36-none-any.whl size=3695 sha256=14ca6e36d7afcb7a0cfab30a0e05e95fda988580403f3083dfea17d14fc4cce8\n",
            "  Stored in directory: /root/.cache/pip/wheels/af/fc/9e/54be65b5ff75f526b464837f8a6b0ee521e545c59b219bd862\n",
            "  Building wheel for pprint (setup.py) ... \u001b[?25l\u001b[?25hdone\n",
            "  Created wheel for pprint: filename=pprint-0.1-cp36-none-any.whl size=1250 sha256=eeb3e8b6b0d2ece050d0a7de2a088f201f5c9c3bb9f5d960c39b71bd29a07a9f\n",
            "  Stored in directory: /root/.cache/pip/wheels/42/d4/c6/16a6495aecc1bda5d5857bd036efd50617789ba9bea4a05124\n",
            "Successfully built yahoo-finance-api2 pprint\n",
            "Installing collected packages: pprint, yahoo-finance-api2\n",
            "Successfully installed pprint-0.1 yahoo-finance-api2-0.0.8\n"
          ],
          "name": "stdout"
        }
      ]
    },
    {
      "cell_type": "code",
      "metadata": {
        "id": "Wqqvcukama8d",
        "colab_type": "code",
        "colab": {
          "base_uri": "https://localhost:8080/",
          "height": 272
        },
        "outputId": "b8d12a05-5930-40b8-ed5e-dd887c3f5daa"
      },
      "source": [
        "import pandas as pd\n",
        "import sys\n",
        "from yahoo_finance_api2 import share\n",
        "from yahoo_finance_api2.exceptions import YahooFinanceError\n",
        "from datetime import datetime\n",
        "\n",
        "def dataloader(stock_name):\n",
        "  my_share = share.Share(stock_name)\n",
        "  symbol_data = None\n",
        "\n",
        "  try:\n",
        "      symbol_data = my_share.get_historical(share.PERIOD_TYPE_YEAR,30,\n",
        "                                            share.FREQUENCY_TYPE_DAY,1)\n",
        "      print(stock_name+\" has been downloaded\")\n",
        "      \n",
        "  except YahooFinanceError as e:\n",
        "      print(e.message)\n",
        "      sys.exit(1)\n",
        "  df = pd.DataFrame(symbol_data)\n",
        "  \n",
        "  df['timestamp'] = [datetime.fromtimestamp(t/1000) for t in df['timestamp']]\n",
        "\n",
        "  # test = df[(df['timestamp'] >= '2016-1-1 01:00:00') & (df['timestamp'] <= '2018-12-31 04:00:00')]\n",
        "  return df[(df['timestamp'] >= '1995-1-1 01:00:00') & (df['timestamp'] <= '2018-12-31 04:00:00')]\n",
        "\n",
        "print(dataloader(\"AAPL\"))"
      ],
      "execution_count": 2,
      "outputs": [
        {
          "output_type": "stream",
          "text": [
            "AAPL has been downloaded\n",
            "               timestamp        open  ...       close     volume\n",
            "1298 1995-01-03 14:30:00    1.388393  ...    1.370536   25967200\n",
            "1299 1995-01-04 14:30:00    1.379464  ...    1.406250   39670400\n",
            "1300 1995-01-05 14:30:00    1.401786  ...    1.388393   18410000\n",
            "1301 1995-01-06 14:30:00    1.486607  ...    1.500000  269155600\n",
            "1302 1995-01-09 14:30:00    1.486607  ...    1.471540   68521600\n",
            "...                  ...         ...  ...         ...        ...\n",
            "7334 2018-12-21 14:30:00  156.860001  ...  150.729996   95744600\n",
            "7335 2018-12-24 14:30:00  148.149994  ...  146.830002   37169200\n",
            "7336 2018-12-26 14:30:00  148.300003  ...  157.169998   58582500\n",
            "7337 2018-12-27 14:30:00  155.839996  ...  156.149994   53117100\n",
            "7338 2018-12-28 14:30:00  157.500000  ...  156.229996   42291400\n",
            "\n",
            "[6041 rows x 6 columns]\n"
          ],
          "name": "stdout"
        }
      ]
    },
    {
      "cell_type": "code",
      "metadata": {
        "id": "oPesud5rmgcM",
        "colab_type": "code",
        "colab": {}
      },
      "source": [
        "import numpy as np\n",
        "import math\n",
        "\n",
        "def get_data(stock_name):\n",
        "    df = dataloader(stock_name)\n",
        "    train = list(df[(df['timestamp'] >= '2000-01-01 01:00:00') & (df['timestamp'] <= '2015-12-31 04:00:00')]['close'])\n",
        "    # train2 = train[:-(len(train)%window_size)]\n",
        "    test = list(df[(df['timestamp'] >= '2016-01-01 01:00:00') & (df['timestamp'] <= '2016-12-31 12:00:00')]['close'])\n",
        "    # test2 = test[:-(len(test)%window_size)]\n",
        "    return train, test"
      ],
      "execution_count": 0,
      "outputs": []
    },
    {
      "cell_type": "code",
      "metadata": {
        "id": "ig9G3fxCmnxS",
        "colab_type": "code",
        "colab": {
          "base_uri": "https://localhost:8080/",
          "height": 299
        },
        "outputId": "a5064b6f-1b0f-4549-d419-e743bee99c16"
      },
      "source": [
        "import matplotlib.pyplot as plt\n",
        "\n",
        "train_data,_ = get_data(\"AAPL\")\n",
        "\n",
        "plt.plot([i for i in range(len(train_data))], train_data)"
      ],
      "execution_count": 4,
      "outputs": [
        {
          "output_type": "stream",
          "text": [
            "AAPL has been downloaded\n"
          ],
          "name": "stdout"
        },
        {
          "output_type": "execute_result",
          "data": {
            "text/plain": [
              "[<matplotlib.lines.Line2D at 0x7f3f1baa4b00>]"
            ]
          },
          "metadata": {
            "tags": []
          },
          "execution_count": 4
        },
        {
          "output_type": "display_data",
          "data": {
            "image/png": "[encoded data removed]",
            "text/plain": [
              "<Figure size 432x288 with 1 Axes>"
            ]
          },
          "metadata": {
            "tags": []
          }
        }
      ]
    },
    {
      "cell_type": "code",
      "metadata": {
        "id": "zkaeUu_WnFAa",
        "colab_type": "code",
        "colab": {}
      },
      "source": [
        "import keras\n",
        "from keras.models import Sequential\n",
        "from keras.layers.convolutional import Conv1D\n",
        "from keras.layers.convolutional import MaxPooling1D\n",
        "from keras.layers.core import Dropout\n",
        "from keras.layers.core import Dense\n",
        "from keras.layers import Flatten\n",
        "from keras.layers import Input\n",
        "from keras.layers import concatenate\n",
        "from keras.layers import GaussianNoise\n",
        "from keras.models import Model\n",
        "from keras.losses import mean_absolute_error\n",
        "from keras.losses import mean_squared_error\n",
        "from keras.optimizers import Adam\n",
        "from keras.optimizers import Adagrad\n",
        "import keras.backend as K\n",
        "\n",
        "from keras.utils.vis_utils import plot_model\n",
        "\n",
        "def CNN_model():\n",
        "  #The CNN builder\n",
        "  #It is a sequential model, layers are added successively\n",
        "\n",
        "  conv_NN = Sequential()\n",
        "\n",
        "  #A gaussian noise to focus on the trend and not a too much precise prediction\n",
        "  #Beware Gaussian noise layers are activated only during the learning phase. \n",
        "  conv_NN.add(\n",
        "      GaussianNoise(input_shape=(10,1,), stddev=10, name=\"Noise\")\n",
        "  )\n",
        "\n",
        "  #The convolutional layers to focus on pattern recognition.\n",
        "  conv_NN.add(\n",
        "      Conv1D(\n",
        "          filters=10,\n",
        "          kernel_size=3,\n",
        "          activation='tanh',\n",
        "          name='conv_1'\n",
        "      )\n",
        "  )\n",
        "\n",
        "  conv_NN.add(\n",
        "      Conv1D(\n",
        "          filters=20,\n",
        "          kernel_size=3,\n",
        "          activation='relu',\n",
        "          name='conv_2'\n",
        "      )\n",
        "  )\n",
        "\n",
        "  conv_NN.add(MaxPooling1D(pool_size=2, name='pool_minutes'))\n",
        "  conv_NN.add(Dropout(0.2, name=\"Dropout\"))\n",
        "  conv_NN.add(Flatten(name='Flatten'))\n",
        "\n",
        "\n",
        "  #Final regressions after convolutional process.\n",
        "  conv_NN.add(\n",
        "      Dense(\n",
        "          units=32,\n",
        "          activation='relu',\n",
        "          name='dense1' \n",
        "      )\n",
        "  )\n",
        "\n",
        "  conv_NN.add(\n",
        "      Dense(\n",
        "          units=1,\n",
        "          activation='relu',\n",
        "          name='output' \n",
        "      )\n",
        "  )\n",
        "\n",
        "  conv_NN.compile(\n",
        "      loss= 'mse',\n",
        "      optimizer=Adam()\n",
        "  )\n",
        "\n",
        "  return(conv_NN)"
      ],
      "execution_count": 0,
      "outputs": []
    },
    {
      "cell_type": "code",
      "metadata": {
        "id": "hWujtHeFpIwn",
        "colab_type": "code",
        "colab": {
          "base_uri": "https://localhost:8080/",
          "height": 34
        },
        "outputId": "df22cefc-0a94-411b-8166-cca00d260aa3"
      },
      "source": [
        "t_data, v_data = get_data(\"AAPL\")\n",
        "\n",
        "train_data = []\n",
        "res_train = []\n",
        "valid_data = []\n",
        "res_valid = []\n",
        "\n",
        "for i in range(len(t_data) - 11):\n",
        "  data = []\n",
        "  for j in range(10):\n",
        "    data.append([ t_data[i+j] ])\n",
        "  train_data.append(np.array(data))\n",
        "  res_train.append(t_data[i+10])\n",
        "\n",
        "for i in range(len(v_data) - 11):\n",
        "  data = []\n",
        "  for j in range(10):\n",
        "    data.append([ v_data[i+j] ])\n",
        "  valid_data.append(np.array(data))\n",
        "  res_valid.append(v_data[i+10])\n"
      ],
      "execution_count": 6,
      "outputs": [
        {
          "output_type": "stream",
          "text": [
            "AAPL has been downloaded\n"
          ],
          "name": "stdout"
        }
      ]
    },
    {
      "cell_type": "code",
      "metadata": {
        "id": "b39We8JlqEzJ",
        "colab_type": "code",
        "colab": {
          "base_uri": "https://localhost:8080/",
          "height": 561
        },
        "outputId": "672a1970-9273-43d5-99dd-dea100564337"
      },
      "source": [
        "model = CNN_model()\n",
        "\n",
        "#Time to train\n",
        "model.fit(\n",
        "    x = np.array(train_data),\n",
        "    y = np.array(res_train),\n",
        "    verbose=1,\n",
        "    validation_data=(np.array(valid_data), res_valid),\n",
        "    epochs=15,\n",
        "    batch_size=30\n",
        ")"
      ],
      "execution_count": 19,
      "outputs": [
        {
          "output_type": "stream",
          "text": [
            "Train on 4013 samples, validate on 241 samples\n",
            "Epoch 1/15\n",
            "4013/4013 [==============================] - 1s 307us/step - loss: 1132.3557 - val_loss: 429.0182\n",
            "Epoch 2/15\n",
            "4013/4013 [==============================] - 1s 132us/step - loss: 163.2523 - val_loss: 57.2643\n",
            "Epoch 3/15\n",
            "4013/4013 [==============================] - 1s 133us/step - loss: 136.7640 - val_loss: 58.0957\n",
            "Epoch 4/15\n",
            "4013/4013 [==============================] - 1s 125us/step - loss: 125.9726 - val_loss: 211.8073\n",
            "Epoch 5/15\n",
            "4013/4013 [==============================] - 1s 126us/step - loss: 100.7503 - val_loss: 59.0003\n",
            "Epoch 6/15\n",
            "4013/4013 [==============================] - 1s 145us/step - loss: 87.9697 - val_loss: 56.9744\n",
            "Epoch 7/15\n",
            "4013/4013 [==============================] - 1s 161us/step - loss: 75.5669 - val_loss: 502.0672\n",
            "Epoch 8/15\n",
            "4013/4013 [==============================] - 1s 154us/step - loss: 70.3964 - val_loss: 67.0717\n",
            "Epoch 9/15\n",
            "4013/4013 [==============================] - 1s 126us/step - loss: 65.8826 - val_loss: 61.6582\n",
            "Epoch 10/15\n",
            "4013/4013 [==============================] - 0s 124us/step - loss: 56.7563 - val_loss: 155.7362\n",
            "Epoch 11/15\n",
            "4013/4013 [==============================] - 1s 126us/step - loss: 55.9157 - val_loss: 31.8519\n",
            "Epoch 12/15\n",
            "4013/4013 [==============================] - 1s 131us/step - loss: 56.3798 - val_loss: 239.3236\n",
            "Epoch 13/15\n",
            "4013/4013 [==============================] - 1s 127us/step - loss: 52.2963 - val_loss: 33.7736\n",
            "Epoch 14/15\n",
            "4013/4013 [==============================] - 1s 142us/step - loss: 49.6619 - val_loss: 244.6789\n",
            "Epoch 15/15\n",
            "4013/4013 [==============================] - 1s 148us/step - loss: 41.7106 - val_loss: 12.8280\n"
          ],
          "name": "stdout"
        },
        {
          "output_type": "execute_result",
          "data": {
            "text/plain": [
              "<keras.callbacks.History at 0x7f3e75437cf8>"
            ]
          },
          "metadata": {
            "tags": []
          },
          "execution_count": 19
        }
      ]
    },
    {
      "cell_type": "code",
      "metadata": {
        "id": "iGYYmGC9qlFI",
        "colab_type": "code",
        "colab": {
          "base_uri": "https://localhost:8080/",
          "height": 295
        },
        "outputId": "9528a3e9-0702-4fc6-d933-cb2e3726a6a7"
      },
      "source": [
        "plot_data = []\n",
        "\n",
        "for i in range(len(valid_data)):\n",
        "  prediction = model.predict(\n",
        "      x = np.array([valid_data[i]]),\n",
        "      verbose=0,\n",
        "      batch_size=1\n",
        "  )\n",
        "  plot_data.append(prediction[0])\n",
        "\n",
        "plt.plot([i for i in range(len(valid_data))], plot_data, label=\"prediction\")\n",
        "plt.plot([i for i in range(len(valid_data))], res_valid, label=\"real\")\n",
        "plt.legend()\n",
        "plt.title(\"Close price prediction\")\n",
        "plt.xlabel(\"Days -- starts 1st January 2016 \")\n",
        "plt.ylabel(\"Close price\")\n",
        "plt.show()"
      ],
      "execution_count": 20,
      "outputs": [
        {
          "output_type": "display_data",
          "data": {
            "image/png": "[encoded data removed]",
            "text/plain": [
              "<Figure size 432x288 with 1 Axes>"
            ]
          },
          "metadata": {
            "tags": []
          }
        }
      ]
    },
    {
      "cell_type": "code",
      "metadata": {
        "id": "ueFX0ImEuzbI",
        "colab_type": "code",
        "colab": {}
      },
      "source": [
        ""
      ],
      "execution_count": 0,
      "outputs": []
    }
  ]
}
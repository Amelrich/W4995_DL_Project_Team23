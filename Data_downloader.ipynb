{
  "nbformat": 4,
  "nbformat_minor": 0,
  "metadata": {
    "colab": {
      "name": "Data_downloader.ipynb",
      "provenance": []
    },
    "kernelspec": {
      "name": "python3",
      "display_name": "Python 3"
    },
    "accelerator": "GPU"
  },
  "cells": [
    {
      "cell_type": "code",
      "execution_count": 0,
      "metadata": {
        "colab": {},
        "colab_type": "code",
        "id": "w2ZJP5JzumGY"
      },
      "outputs": [],
      "source": [
        "#!pip install yahoo_finance_api2"
      ]
    },
    {
      "cell_type": "code",
      "execution_count": 1,
      "metadata": {},
      "outputs": [],
      "source": [
        "import pandas as pd\n",
        "import sys\n",
        "from yahoo_finance_api2 import share\n",
        "from yahoo_finance_api2.exceptions import YahooFinanceError\n",
        "from datetime import datetime\n",
        "\n",
        "def dataloader(symbol):\n",
        "  my_share = share.Share(symbol)\n",
        "  symbol_data = None\n",
        "\n",
        "  try:\n",
        "      symbol_data = my_share.get_historical(share.PERIOD_TYPE_YEAR,30,\n",
        "                                            share.FREQUENCY_TYPE_DAY,1)\n",
        "      print(symbol+\" has been downloaded\")\n",
        "      \n",
        "  except YahooFinanceError as e:\n",
        "      print(e.message)\n",
        "      sys.exit(1)\n",
        "  df = pd.DataFrame(symbol_data)\n",
        "  \n",
        "  df['timestamp'] = [datetime.fromtimestamp(t/1000) for t in df['timestamp']]\n",
        "\n",
        "  return df[(df['timestamp'] >= '1995-1-1 01:00:00') & (df['timestamp'] <= '2018-12-31 04:00:00')]"
      ]
    },
    {
      "cell_type": "code",
      "execution_count": 0,
      "metadata": {
        "colab": {},
        "colab_type": "code",
        "id": "8MZzYb9kyJac"
      },
      "outputs": [],
      "source": [
        "djia_str = \"KO MCD JPM AXP CAT UTX MSFT CVX AAPL HD DIS V XOM TRV PFE MRK JNJ BA VZ IBM GS WBA INTC DOW UNH WMT PG CSCO NKE MMM\"\n",
        "name_lst = [x for x in str.split(\" \")]\n"
      ]
    },
    {
      "cell_type": "code",
      "execution_count": 2,
      "metadata": {},
      "outputs": [
        {
          "name": "stdout",
          "output_type": "stream",
          "text": "AAPL has been downloaded\nNKE has been downloaded\nDJI has been downloaded\n"
        }
      ],
      "source": [
        "import matplotlib.pyplot as plt\n",
        "\n",
        "apple = dataloader(\"AAPL\")\n",
        "nike =  dataloader(\"NKE\")\n",
        "dji  = dataloader(\"DJI\")\n"
      ]
    },
    {
      "cell_type": "code",
      "execution_count": 5,
      "metadata": {
        "colab": {
          "base_uri": "https://localhost:8080/",
          "height": 204
        },
        "colab_type": "code",
        "id": "khKuV8bt_uIU",
        "outputId": "d354545d-072d-4ad3-e074-f8227a2348d6"
      },
      "outputs": [
        {
          "data": {
            "text/html": [
              "<div>\n",
              "<style scoped>\n",
              "    .dataframe tbody tr th:only-of-type {\n",
              "        vertical-align: middle;\n",
              "    }\n",
              "\n",
              "    .dataframe tbody tr th {\n",
              "        vertical-align: top;\n",
              "    }\n",
              "\n",
              "    .dataframe thead th {\n",
              "        text-align: right;\n",
              "    }\n",
              "</style>\n",
              "<table border=\"1\" class=\"dataframe\">\n",
              "  <thead>\n",
              "    <tr style=\"text-align: right;\">\n",
              "      <th></th>\n",
              "      <th>timestamp</th>\n",
              "      <th>open</th>\n",
              "      <th>high</th>\n",
              "      <th>low</th>\n",
              "      <th>close</th>\n",
              "      <th>volume</th>\n",
              "    </tr>\n",
              "  </thead>\n",
              "  <tbody>\n",
              "    <tr>\n",
              "      <th>1312</th>\n",
              "      <td>1995-01-03 14:30:00</td>\n",
              "      <td>1.388393</td>\n",
              "      <td>1.388393</td>\n",
              "      <td>1.352679</td>\n",
              "      <td>1.370536</td>\n",
              "      <td>25967200</td>\n",
              "    </tr>\n",
              "    <tr>\n",
              "      <th>1313</th>\n",
              "      <td>1995-01-04 14:30:00</td>\n",
              "      <td>1.379464</td>\n",
              "      <td>1.415179</td>\n",
              "      <td>1.379464</td>\n",
              "      <td>1.406250</td>\n",
              "      <td>39670400</td>\n",
              "    </tr>\n",
              "    <tr>\n",
              "      <th>1314</th>\n",
              "      <td>1995-01-05 14:30:00</td>\n",
              "      <td>1.401786</td>\n",
              "      <td>1.406250</td>\n",
              "      <td>1.383929</td>\n",
              "      <td>1.388393</td>\n",
              "      <td>18410000</td>\n",
              "    </tr>\n",
              "    <tr>\n",
              "      <th>1315</th>\n",
              "      <td>1995-01-06 14:30:00</td>\n",
              "      <td>1.486607</td>\n",
              "      <td>1.540179</td>\n",
              "      <td>1.468750</td>\n",
              "      <td>1.500000</td>\n",
              "      <td>269155600</td>\n",
              "    </tr>\n",
              "    <tr>\n",
              "      <th>1316</th>\n",
              "      <td>1995-01-09 14:30:00</td>\n",
              "      <td>1.486607</td>\n",
              "      <td>1.495536</td>\n",
              "      <td>1.464286</td>\n",
              "      <td>1.471540</td>\n",
              "      <td>68521600</td>\n",
              "    </tr>\n",
              "  </tbody>\n",
              "</table>\n",
              "</div>"
            ],
            "text/plain": [
              "               timestamp      open      high       low     close     volume\n",
              "1312 1995-01-03 14:30:00  1.388393  1.388393  1.352679  1.370536   25967200\n",
              "1313 1995-01-04 14:30:00  1.379464  1.415179  1.379464  1.406250   39670400\n",
              "1314 1995-01-05 14:30:00  1.401786  1.406250  1.383929  1.388393   18410000\n",
              "1315 1995-01-06 14:30:00  1.486607  1.540179  1.468750  1.500000  269155600\n",
              "1316 1995-01-09 14:30:00  1.486607  1.495536  1.464286  1.471540   68521600"
            ]
          },
          "execution_count": 5,
          "metadata": {
            "tags": []
          },
          "output_type": "execute_result"
        }
      ],
      "source": [
        "# print(apple['close'].describe() )\n",
        "# print(nike['close'].describe() )\n",
        "# print(dji['close'].describe() )\n",
        "apple.head()"
      ]
    },
    {
      "cell_type": "code",
      "execution_count": 0,
      "metadata": {
        "colab": {},
        "colab_type": "code",
        "id": "9RHxXNb6Vjye"
      },
      "outputs": [],
      "source": []
    }
  ]
}